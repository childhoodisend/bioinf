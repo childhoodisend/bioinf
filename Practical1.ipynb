{
 "cells": [
  {
   "cell_type": "markdown",
   "metadata": {},
   "source": [
    "# МОЛЕКУЛЯРНАЯ БИОЛОГИЯ  (февраль 2021 г.)\n",
    "---"
   ]
  },
  {
   "cell_type": "markdown",
   "metadata": {},
   "source": [
    "# ПРАКТИКА 1. Генетический код и Открытая рамка считывания"
   ]
  },
  {
   "cell_type": "markdown",
   "metadata": {},
   "source": [
    "1.1. Структура ДНК<br>\n",
    "1.2. Операции со строчными данными в Python3<br>\n",
    "1.3. Создание произвольной последовательности нуклеиновых кислот<br>\n",
    "1.4. Получение обратной комплементарной последовательности ДНК<br>\n",
    "1.5. Поиск открытых рамок считывания<br>\n",
    "1.6. Трансляция"
   ]
  },
  {
   "cell_type": "markdown",
   "metadata": {},
   "source": [
    "___"
   ]
  },
  {
   "cell_type": "markdown",
   "metadata": {},
   "source": [
    "##  1.1. Структура ДНК"
   ]
  },
  {
   "cell_type": "markdown",
   "metadata": {},
   "source": [
    "Пары спаренных азотистых оснований (п.н. - пар нуклеотидов) на копмлементарных цепочках нуклеиновых кислот"
   ]
  },
  {
   "cell_type": "markdown",
   "metadata": {},
   "source": [
    "<img src=\"Images/DNA.jpg\" width =\"500\" height=\"500\" style=\"float:left\"/>"
   ]
  },
  {
   "cell_type": "markdown",
   "metadata": {},
   "source": [
    "### Задание № 1.1:"
   ]
  },
  {
   "cell_type": "markdown",
   "metadata": {},
   "source": [
    "1. Напишите нуклеотиды прямой и обратной цепи ДНК на рисунке.\n",
    "2. В чем отличия пиримидиновых и пуриновых азотистых оснований?\n",
    "3. Дайте названия нуклеотидам на рисунке и определите к какому типу азотистых оснований они относятся.\n",
    "4. Дайте название типу химической связи, с помощью которой комплементарные нуклеотиды из антипараллельных цепей ДНК спариваются друг с другом.\n",
    "5. Сколько содержится таких связей и между какими азотистыми основаниями?\n",
    "6. Какими связями нуклеотиды соединяются в цепь ДНК?"
   ]
  },
  {
   "cell_type": "markdown",
   "metadata": {},
   "source": [
    "### Ответы № 1.1:"
   ]
  },
  {
   "cell_type": "raw",
   "metadata": {},
   "source": [
    "1.C T, A G \n",
    "2.\n",
    "3.\n",
    "4.\n",
    "5.\n",
    "6."
   ]
  },
  {
   "cell_type": "markdown",
   "metadata": {},
   "source": [
    "## 1.2. Операции со строчными данными в Python3"
   ]
  },
  {
   "cell_type": "markdown",
   "metadata": {},
   "source": [
    "### Нуклеотиды (строки)"
   ]
  },
  {
   "cell_type": "code",
   "execution_count": 2,
   "metadata": {
    "scrolled": true
   },
   "outputs": [
    {
     "data": {
      "text/plain": [
       "'AGCT'"
      ]
     },
     "execution_count": 2,
     "metadata": {},
     "output_type": "execute_result"
    }
   ],
   "source": [
    "nucls = \"AGCT\"\n",
    "nucls"
   ]
  },
  {
   "cell_type": "markdown",
   "metadata": {},
   "source": [
    "### Нуклеотиды (список)"
   ]
  },
  {
   "cell_type": "code",
   "execution_count": 3,
   "metadata": {},
   "outputs": [
    {
     "data": {
      "text/plain": [
       "['A', 'C', 'G', 'T']"
      ]
     },
     "execution_count": 3,
     "metadata": {},
     "output_type": "execute_result"
    }
   ],
   "source": [
    "nuclist = [\"A\",\"C\",\"G\",\"T\"]\n",
    "nuclist"
   ]
  },
  {
   "cell_type": "markdown",
   "metadata": {},
   "source": [
    "### Проверить тип данных"
   ]
  },
  {
   "cell_type": "code",
   "execution_count": 4,
   "metadata": {},
   "outputs": [
    {
     "data": {
      "text/plain": [
       "str"
      ]
     },
     "execution_count": 4,
     "metadata": {},
     "output_type": "execute_result"
    }
   ],
   "source": [
    "type(nucls)"
   ]
  },
  {
   "cell_type": "code",
   "execution_count": 5,
   "metadata": {},
   "outputs": [
    {
     "data": {
      "text/plain": [
       "list"
      ]
     },
     "execution_count": 5,
     "metadata": {},
     "output_type": "execute_result"
    }
   ],
   "source": [
    "type(nuclist)"
   ]
  },
  {
   "cell_type": "code",
   "execution_count": 6,
   "metadata": {},
   "outputs": [
    {
     "data": {
      "text/plain": [
       "True"
      ]
     },
     "execution_count": 6,
     "metadata": {},
     "output_type": "execute_result"
    }
   ],
   "source": [
    "isinstance(nucls, str)"
   ]
  },
  {
   "cell_type": "code",
   "execution_count": 7,
   "metadata": {},
   "outputs": [
    {
     "data": {
      "text/plain": [
       "False"
      ]
     },
     "execution_count": 7,
     "metadata": {},
     "output_type": "execute_result"
    }
   ],
   "source": [
    "isinstance(nuclist, str)"
   ]
  },
  {
   "cell_type": "markdown",
   "metadata": {},
   "source": [
    "### Длина последовательности"
   ]
  },
  {
   "cell_type": "code",
   "execution_count": 8,
   "metadata": {},
   "outputs": [
    {
     "data": {
      "text/plain": [
       "4"
      ]
     },
     "execution_count": 8,
     "metadata": {},
     "output_type": "execute_result"
    }
   ],
   "source": [
    "len(nucls)"
   ]
  },
  {
   "cell_type": "code",
   "execution_count": 9,
   "metadata": {},
   "outputs": [
    {
     "data": {
      "text/plain": [
       "4"
      ]
     },
     "execution_count": 9,
     "metadata": {},
     "output_type": "execute_result"
    }
   ],
   "source": [
    "len(nuclist)"
   ]
  },
  {
   "cell_type": "markdown",
   "metadata": {},
   "source": [
    "### Индексация списка с 0 позиции"
   ]
  },
  {
   "cell_type": "code",
   "execution_count": 10,
   "metadata": {
    "scrolled": true
   },
   "outputs": [
    {
     "data": {
      "text/plain": [
       "'A'"
      ]
     },
     "execution_count": 10,
     "metadata": {},
     "output_type": "execute_result"
    }
   ],
   "source": [
    "nucls[0]"
   ]
  },
  {
   "cell_type": "code",
   "execution_count": 11,
   "metadata": {},
   "outputs": [
    {
     "data": {
      "text/plain": [
       "'T'"
      ]
     },
     "execution_count": 11,
     "metadata": {},
     "output_type": "execute_result"
    }
   ],
   "source": [
    "nuclist[3]"
   ]
  },
  {
   "cell_type": "markdown",
   "metadata": {},
   "source": [
    "### Объединение списков"
   ]
  },
  {
   "cell_type": "code",
   "execution_count": 12,
   "metadata": {},
   "outputs": [
    {
     "data": {
      "text/plain": [
       "['T', 'A', 'C', 'G', 'T', 'A', 'C']"
      ]
     },
     "execution_count": 12,
     "metadata": {},
     "output_type": "execute_result"
    }
   ],
   "source": [
    "nuclist[3:]+nuclist+nuclist[:2]"
   ]
  },
  {
   "cell_type": "markdown",
   "metadata": {},
   "source": [
    "### Объединение строк"
   ]
  },
  {
   "cell_type": "code",
   "execution_count": 13,
   "metadata": {},
   "outputs": [
    {
     "data": {
      "text/plain": [
       "'TAGCTAG'"
      ]
     },
     "execution_count": 13,
     "metadata": {},
     "output_type": "execute_result"
    }
   ],
   "source": [
    "nucls[3:]+nucls+nucls[:2]"
   ]
  },
  {
   "cell_type": "markdown",
   "metadata": {},
   "source": [
    "### Сортировка"
   ]
  },
  {
   "cell_type": "code",
   "execution_count": 14,
   "metadata": {},
   "outputs": [
    {
     "data": {
      "text/plain": [
       "['A', 'C', 'G', 'T']"
      ]
     },
     "execution_count": 14,
     "metadata": {},
     "output_type": "execute_result"
    }
   ],
   "source": [
    "sorted(\"TGCA\")"
   ]
  },
  {
   "cell_type": "code",
   "execution_count": 15,
   "metadata": {
    "scrolled": true
   },
   "outputs": [
    {
     "data": {
      "text/plain": [
       "['T', 'G', 'C', 'A']"
      ]
     },
     "execution_count": 15,
     "metadata": {},
     "output_type": "execute_result"
    }
   ],
   "source": [
    "nuclist.sort(reverse=True)\n",
    "nuclist"
   ]
  },
  {
   "cell_type": "markdown",
   "metadata": {},
   "source": [
    "### Обратная последовательность"
   ]
  },
  {
   "cell_type": "code",
   "execution_count": 16,
   "metadata": {},
   "outputs": [
    {
     "data": {
      "text/plain": [
       "['T', 'C', 'G', 'A']"
      ]
     },
     "execution_count": 16,
     "metadata": {},
     "output_type": "execute_result"
    }
   ],
   "source": [
    "list(reversed(nucls))"
   ]
  },
  {
   "cell_type": "markdown",
   "metadata": {},
   "source": [
    "### Объединение списка нуклеотидов в последовательность (строку)"
   ]
  },
  {
   "cell_type": "code",
   "execution_count": 17,
   "metadata": {},
   "outputs": [
    {
     "data": {
      "text/plain": [
       "'TGCA'"
      ]
     },
     "execution_count": 17,
     "metadata": {},
     "output_type": "execute_result"
    }
   ],
   "source": [
    "nucls = \"\".join(nuclist)\n",
    "nucls"
   ]
  },
  {
   "cell_type": "markdown",
   "metadata": {},
   "source": [
    "### Преобразование последовательности (строки) в список нуклеотидов"
   ]
  },
  {
   "cell_type": "code",
   "execution_count": 18,
   "metadata": {},
   "outputs": [
    {
     "data": {
      "text/plain": [
       "['T', 'G', 'C', 'A']"
      ]
     },
     "execution_count": 18,
     "metadata": {},
     "output_type": "execute_result"
    }
   ],
   "source": [
    "nuclist = list(nucls)\n",
    "nuclist"
   ]
  },
  {
   "cell_type": "markdown",
   "metadata": {},
   "source": [
    "### Множество элементов"
   ]
  },
  {
   "cell_type": "code",
   "execution_count": 19,
   "metadata": {},
   "outputs": [
    {
     "data": {
      "text/plain": [
       "{'A', 'C', 'G', 'T'}"
      ]
     },
     "execution_count": 19,
     "metadata": {},
     "output_type": "execute_result"
    }
   ],
   "source": [
    "set(nucls)"
   ]
  },
  {
   "cell_type": "code",
   "execution_count": 20,
   "metadata": {
    "scrolled": false
   },
   "outputs": [
    {
     "data": {
      "text/plain": [
       "{'A', 'C', 'G', 'T'}"
      ]
     },
     "execution_count": 20,
     "metadata": {},
     "output_type": "execute_result"
    }
   ],
   "source": [
    "set(nuclist)ние цепи ДНК, указа"
   ]
  },
  {
   "cell_type": "code",
   "execution_count": 21,
   "metadata": {},
   "outputs": [
    {
     "data": {
      "text/plain": [
       "['T', 'G', 'C', 'A']"
      ]
     },
     "execution_count": 21,
     "metadata": {},
     "output_type": "execute_result"
    }
   ],
   "source": [
    "nuclist"
   ]
  },
  {
   "cell_type": "markdown",
   "metadata": {},
   "source": [
    "### Подсчет нуклеотидов"
   ]
  },
  {
   "cell_type": "code",
   "execution_count": 22,
   "metadata": {},
   "outputs": [
    {
     "name": "stdout",
     "output_type": "stream",
     "text": [
      "Число аденинов в последовательности ДНК: 1\n"
     ]
    }
   ],
   "source": [
    "print(\"Число аденинов в последовательности ДНК:\", nucls.count(\"A\"))"
   ]
  },
  {
   "cell_type": "code",
   "execution_count": 23,
   "metadata": {},
   "outputs": [
    {
     "name": "stdout",
     "output_type": "stream",
     "text": [
      "Число цитозинов в последовательности ДНК: 1\n"
     ]
    }
   ],
   "source": [
    "print(\"Число цитозинов в последовательности ДНК:\", nuclist.count(\"C\"))"
   ]
  },
  {
   "cell_type": "code",
   "execution_count": 24,
   "metadata": {},
   "outputs": [
    {
     "name": "stdout",
     "output_type": "stream",
     "text": [
      "Частоты нуклеотидов в последовательности ДНК:\n",
      " {'A': 0.25, 'T': 0.25, 'G': 0.25, 'C': 0.25}\n"
     ]
    }
   ],
   "source": [
    "DNAfreq = {x:nucls.count(x)/len(nucls) for x in \"ATGC\"}\n",
    "print(\"Частоты нуклеотидов в последовательности ДНК:\\n\", DNAfreq)"
   ]
  },
  {
   "cell_type": "markdown",
   "metadata": {},
   "source": [
    "### Задание № 1.2:"
   ]
  },
  {
   "cell_type": "markdown",
   "metadata": {},
   "source": [
    "<img src=\"Images/1_chain.png\" width =\"800\" height=\"800\" style=\"float:left\"/>"
   ]
  },
  {
   "cell_type": "markdown",
   "metadata": {},
   "source": [
    "1. Определите направление цепи ДНК, указанной на рисунке. "
   ]
  },
  {
   "cell_type": "raw",
   "metadata": {},
   "source": [
    "Слева направо"
   ]
  },
  {
   "cell_type": "markdown",
   "metadata": {},
   "source": [
    "2. Создайте переменную, строчное значение которой будет равно последовательности нуклеотидов на рисунке. Впишете код в ячейку ниже."
   ]
  },
  {
   "cell_type": "code",
   "execution_count": 25,
   "metadata": {},
   "outputs": [],
   "source": [
    "nucl = \"TGCAACT\""
   ]
  },
  {
   "cell_type": "markdown",
   "metadata": {},
   "source": [
    "3. Определите длину последовательности."
   ]
  },
  {
   "cell_type": "code",
   "execution_count": 26,
   "metadata": {},
   "outputs": [],
   "source": [
    "Nucl_len = len(nucl)"
   ]
  },
  {
   "cell_type": "markdown",
   "metadata": {},
   "source": [
    "4. Преобразуйте последовательность в список нуклеотидов."
   ]
  },
  {
   "cell_type": "code",
   "execution_count": 30,
   "metadata": {},
   "outputs": [
    {
     "name": "stdout",
     "output_type": "stream",
     "text": [
      "['T', 'G', 'C', 'A', 'A', 'C', 'T']\n"
     ]
    }
   ],
   "source": [
    "nucl_list = [i for i in nucl]\n",
    "print(nucl_list)"
   ]
  },
  {
   "cell_type": "markdown",
   "metadata": {},
   "source": [
    "5. Сделайте сортировку списка."
   ]
  },
  {
   "cell_type": "code",
   "execution_count": 32,
   "metadata": {},
   "outputs": [
    {
     "name": "stdout",
     "output_type": "stream",
     "text": [
      "['A', 'A', 'C', 'C', 'G', 'T', 'T']\n"
     ]
    }
   ],
   "source": [
    "nucl_list.sort()\n",
    "print(nucl_list)"
   ]
  },
  {
   "cell_type": "markdown",
   "metadata": {},
   "source": [
    "6. Выведите множество уникальных значений списка."
   ]
  },
  {
   "cell_type": "code",
   "execution_count": 33,
   "metadata": {},
   "outputs": [
    {
     "name": "stdout",
     "output_type": "stream",
     "text": [
      "{'G', 'T', 'A', 'C'}\n"
     ]
    }
   ],
   "source": [
    "nucl_set = set(nucl_list)\n",
    "print(nucl_set)"
   ]
  },
  {
   "cell_type": "markdown",
   "metadata": {},
   "source": [
    "7. Подсчитайте частоту нуклеотидов в последовательности ДНК."
   ]
  },
  {
   "cell_type": "code",
   "execution_count": 36,
   "metadata": {},
   "outputs": [
    {
     "name": "stdout",
     "output_type": "stream",
     "text": [
      "1\n",
      "\n",
      "2\n",
      "\n",
      "2\n",
      "\n",
      "2\n",
      "\n"
     ]
    }
   ],
   "source": [
    "for i in nucl_set:\n",
    "    print(\"{}\\n\".format(nucl.count(i)))"
   ]
  },
  {
   "cell_type": "markdown",
   "metadata": {},
   "source": [
    "___"
   ]
  },
  {
   "cell_type": "markdown",
   "metadata": {},
   "source": [
    "## 1.3. Создание произвольной последовательности нуклеиновых кислот"
   ]
  },
  {
   "cell_type": "markdown",
   "metadata": {},
   "source": [
    "### Загрузка функций пакета рандомизации"
   ]
  },
  {
   "cell_type": "code",
   "execution_count": 37,
   "metadata": {},
   "outputs": [],
   "source": [
    "from random import choice,randintmap python"
   ]
  },
  {
   "cell_type": "markdown",
   "metadata": {},
   "source": [
    "### Создание функции получения произвольной последовательности заданной длины"
   ]
  },
  {
   "cell_type": "code",
   "execution_count": 38,
   "metadata": {},
   "outputs": [],
   "source": [
    "def randseq(length):\n",
    "    \"\"\"Get random nucleotide sequence\"\"\"\n",
    "    if isinstance(length,int):\n",
    "        return \"\".join([choice([\"A\",\"C\",\"G\",\"T\"]) for i in range(length)])\n",
    "    else:\n",
    "        assert False,\"Wrong input format\""
   ]
  },
  {
   "cell_type": "markdown",
   "metadata": {},
   "source": [
    "### Получение произвольной последовательности нуклеотидов длиной 100 п.н."
   ]
  },
  {
   "cell_type": "code",
   "execution_count": 39,
   "metadata": {},
   "outputs": [
    {
     "name": "stdout",
     "output_type": "stream",
     "text": [
      "GACCTAACGATTAGGTGGCGTCATCTAGATTGGGGTGGTACTCGCATACCTGAACCCGTTATCCCGAAAATTGACGCGAAGCTGCTGTTCCTGCATACAG\n"
     ]
    }
   ],
   "source": [
    "nseqs = randseq(100)\n",
    "print(nseqs)"
   ]
  },
  {
   "cell_type": "markdown",
   "metadata": {},
   "source": [
    "### Получение произвольной последовательности нуклеотидов произвольной длины в заданных пределах"
   ]
  },
  {
   "cell_type": "code",
   "execution_count": 40,
   "metadata": {},
   "outputs": [
    {
     "data": {
      "text/plain": [
       "'TCACACGCCTGTCCTGTAGGCTCGAGTAAGCGACTGATACCGGAATACTCAGCCCCTACCTCCTCCCAAACATGTCTACGTTCACGGGCTAGATCATGTAGAGTTCATT'"
      ]
     },
     "execution_count": 40,
     "metadata": {},
     "output_type": "execute_result"
    }
   ],
   "source": [
    "minlen = 100\n",
    "maxlen = 200\n",
    "randseq(randint(minlen,maxlen))"
   ]
  },
  {
   "cell_type": "markdown",
   "metadata": {},
   "source": [
    "### Задание № 1.3:\n"
   ]
  },
  {
   "cell_type": "markdown",
   "metadata": {},
   "source": [
    "1. Создайте произвольную последовательность нуклеотидов длиной 1000 п.н."
   ]
  },
  {
   "cell_type": "code",
   "execution_count": 41,
   "metadata": {},
   "outputs": [],
   "source": [
    "seq = randseq(1000)"
   ]
  },
  {
   "cell_type": "markdown",
   "metadata": {},
   "source": [
    "2. Подсчитайте частоты нуклеотидов в полученной последовательности ДНК."
   ]
  },
  {
   "cell_type": "code",
   "execution_count": 44,
   "metadata": {},
   "outputs": [
    {
     "name": "stdout",
     "output_type": "stream",
     "text": [
      "['A 244', 'C 255', 'G 249', 'T 252']\n"
     ]
    }
   ],
   "source": [
    "frq = [i + ' ' + str(seq.count(i)) for i in \"ACGT\"]\n",
    "print(frq)"
   ]
  },
  {
   "cell_type": "markdown",
   "metadata": {},
   "source": [
    "3. Получите список 10 последовательностей нуклеотидов длиной от 100 до 1000 п.н."
   ]
  },
  {
   "cell_type": "code",
   "execution_count": 50,
   "metadata": {},
   "outputs": [
    {
     "name": "stdout",
     "output_type": "stream",
     "text": [
      "['TGGCCTTCGGAGCAAAATTCCATACCCGGCATAGAAGGGACAAGACGAAGGCGACCTCTGCATCAGTACTGAGGCCGTGTACCAATACGTGCAGCAGGGCCATCCTAGCTTGCGTCAGTTGGACTTACCACCTAAGAACCTTAACTCACGGTGCATCGAGGGACGCGCGCATGCGGAAGCCAGTCTAGAGGGCACCGAATTATAACCTTAGACGAGATCCGCAGAGACGGCAGATTTGAATGCTCACACTCCCTGCAACGAGGCTAGGTTATATATCGTATGTCACTGTGCTAGTTAGTTTTGCGGGGGTCCTCAACGAATCGCGCTCCATTATCTTGTGGCCGACACTCAAGCAAGACCTGGAGGACGTCCTAAGTATATCTGCCACCCGGAGTCCCCGCTAAGTATAAAGTCTGCCCCCAATTTGCACTGTGCTCAAGCTTGGGTCCAAGTCAGCTGCGTGCTATGGGTTGGATCTGA', 'GCAATCCATATTTTAGAGCTTGTTAGAATGCAAAATATCATTCTAAAAACTAGTCCCCGTGTGCAGAAAGTATCTAGGGTGATTACTTTCCATTGCGGAAACGGAACTGTTAGTCGCGAGAATAATCCCGTCTTCAACATATCTAGTAGCATATTGGACCCAAGGGACCGGAGGTGGACGCTATCTTCGAAAGCAATCATGCCATAAGTACGGTCAGGGGCGGTGTGGATCTGCGGCCATCTTCCTCGAACGCCCGAGAAGACAACTGGGGTGTCACTTTGAGCTTCAGCGTGTGTGGGTCAATCTCTAAACCTATAATTACATGCACACGCATAGTAGCCAAGAA', 'GTGAGTCAAAGCCGGATCCGGTGCCAGGCTGCCAAACAAGGGAAGCGGGTAGGGAATCTTTTCACAATATGCTTGATCGTAGAAGCTTGCTTACCGAAGACGCCCACTCAACCAATTAGACCACGGATCAGTTCGAGCTAAGT', 'ACCTGTCGCGTTGGTATACGAATGAAGGGGATCTCGTGGGAGCCCTCATCGGGGTGTACGCAATAACGTGGTACGCGACACCCTCACGAACCGGGGATTAAGTGGCTATTAATGTATCTGCGTGTTGTCCATTTGAATGGTTTCGACGGCCACCACAACATAGCACCGCCACTGAGCCAAATGAGGGCTGTGCAGATAGCTAGTTGGACGTGATCGGCCGGCTTTCACCACGGAGTATTAAAGGACCACGCAAGGAAAACATTGGCATGATACGCTAACTCTATAAAGTCGCTTCTCTCTTGTGAAGACACATCTCAAGGAGTTCTCAATGCGGCACGACGGGATGAACGAAGTCGCCAGGATTACCTCTAGGTCCGGGGGAATGTGGGCGACCAGATAGTGG', 'GAGTTACAGTTCTTTGAGCTATATATCACGTGCAATCATGCATCCAAGTTTTAAGAGGTAAACGCGAAGTGGGGCATACAATAAAGGCCCTGGGGAAACGTGTACCTCGCGGAGGGCTTCCGGAACGAGGCAAAGATTACACTTAGCGGGCGTCCGCGGTGTTAACGACGGAAATTGGCTAGAGCGCCACACGGGCCGGTTAGATTGATACTACGCGGCTACCAAAACAGCAAGCGATTTTGTATAGTGGGTCTATTGGGAAACGAGTCTGTTATTGACGAGTTGTAGGTGTCAACATTGTGC', 'AATAAGTCCCTGGGAAGGGCTCGTTATGTCGGGTACGTTCGGATACATATTGTCGGCGAATGTCGGCGCGTAGGCTTTTGCGAGCTGTCAAAGCATTGTTGAGTACAGGACGAGTACCCTTTAAACCATTGCTCGGTAAATTAGGTCCACTACTCATTGTAGACACTCCAATTTCACTTCGTTGGCAGATCAGAGTATCGCATTAAACATAATCCGAATGATTCTGCCATGTCATTCTCTCCGCACTCCCGAATTTGGATCGCGGTGCTAATCTCTGCCAACGGATTGCCTGACTTGACGTTTGCAGTCCACGATACGCACCCGCGCCCAATCACTTCCACCTTAGCGGTCGAAAACCTTCTGATTAAGTGACAACTCTGGTTGTTTAGGCGGAATAGCTCCATGTATAATTGGGTAATGCAAAGCATGCCCAGACTACCCTATAACGGAAACCCAGGGTTTCTCACATATGGCAGTAGATCAGAACATCCCGAGGATTTCGGCCAGATCTTCTCTGGTTTAACAATCTCAAGCGACCCAACCACAACT', 'CGACGGTGGCCACATCCTAAGTTGGTTGGAGCTTGAACCGCCATTGGCATATCTCCGAAACGCTCGAGAGCACAAAGAGCAGTCCCAATCTGCGGCGATAGGAGGCTTGTCAAAGGTTGCATATGCAGCTACTAAAAGCCAGGCTTTTGCAGACGGGCAGTGCCGATAAACAGGCTGTACCGGCATTTCCTCGTACCCACAAATGGCTTATTGAGATAAGTTAAGACGAACGAGGATGAACGCAATCTCGCCTACAGAGCGGACCTCTATGCTCCCCCGAAGGTCAAATACATACAGTTGGTTCACTCATCGGACCGGATGTCTGAGATAGGTACGTCCATCATCTCTCCCTTTCGGTGGACCATTTAAGGTCCGTAACGGAATCGCCACACCCTGGGTTGTACGTGCTAGGACAAGTAGGGTTAGACGCAGCCGGGAGGGATAGAGTCTCCTTAAGTTCTAGTGGACAGAAATTTAAGGGCGTCATCCACGAACCGATCTCGTGGGTGTGGAATTTACCGGGTCGGTACGTTGATCCAGTGGGTCTGCGAGCAGCTTGCGGCCACGTTGAATTAGTTAGCCCTTGATGTATGCCGGGACGTATACCAGCTATAGTCACATCACTATCTAACATAACCGTCTGGAATCCTTTTCTCGGCACCATATTGAGGAGACGGTCGTCTGTACCGATGCACCTC', 'CTTTCCAGGTAACGGAAGGATGCCGGAGCCCTCTACCAGGGGGCCGACACGTCATAGCCGGGCGTTCAGGATCACCTTGTTAAAAGCGTACAGCGCTTTTAAGCAGACCTAGTCGTGCTGAGAGACCACACCGCCGCCAGCTGAAATGAGAACTCATCGGGGCAAGGCAGTGAAATGAGTTAAAGTAATGACTATCTTATAGGGATATGGAATCAACATGTTTTGTGGACACCTCTTCGTATCTCTGATGTGGTGCTTACAGAACCCAATTTAGTCTGACTAACGTGCGTTACATATACAGAAGAACTGGTGCCTGGTCTTACCTGACTGAGTCTTGACGGCGCGCAAGTTTCGTCCGTTAACCTTATGGATCGGGTTGTTTCCTATTTGCCAATATATAATATCCATTGTCCAAGGAACGTTTTGTGTATTCTATGACACTACCGGAAGTAAGTATTTATTACAAGAGTTGCTTGTTTCCTATAGTTAAGTGATGAGCGATCGCGGCGCCCGGGTATGGGAGTTCAAACTCAATCACCTGATGTTACCTTCGTTGGTGATTTATCTCATGCAGTGTGCAGTTGCTGTATCCTACTCCAATGAAGACTCGTTTACGCCGTTGTCTGGAGGAAGTGGCTATTTTCATCTCCTAACTGAGAACCAGTGTTCAGAATAAGGTCGGTAAAGAAGCCCTGTATCAGGAGGCGGGCTGGCGTGGACCTCTGCAAATGGCAATTCTGTCCATTTCTAATTAAAGTACTCAGATTTACAGCAAGTAGCCACGAGGGGAGGGCATGAATATTATCAGTCAGCTGGCATCAGGAGAAATCTTAAAGGATCCGAGCAAAACTTTTAACAGTACATCCTGTGGGGTATACCAAGGCGCGACACGGCC', 'TTCTAATGGAGATTGTCTCACGTTTGTCTATACGGTCATGATGTGGTGCTTTAATGGAAACTTCCTCGCAGCTGTGTCGTTACTGAATTCGCTGGAGAAGTCGTCCCGTAACTTTTTTCACTTGGGGAAGTGACGCTTTCCAGCCCCTGTAACAGCCGTCGCTTGCGTAGCAGAATAATGACGACAGTCGTTGCAGCTACCACTTAACGCTCGTAATATAGCCAATCCCCGACGTTGCCGGGACGCCGGAAAGGCCCATGATGCCGCGCTGGGAATAGAGTCCAGAGGAGTCCCCAGAGACGATCATCAACTTCGAGTCGGGGCATTCCATTGCAATTGTAAACAGTGCAGTGCAATACCTCCCAATTAAAATAATTTGCGCGGAGGAAAAGCCCGGTCCCCAGCCGCATCCATGCAACGTCCAGGCCAGGAGAGTCTTATACCATCTACATACACGTCCTTCACTGGTCTCCGTGAGGAGTTACGTGTACTTACGAAGAAGTGTCCCTTGGCAAGTCCTAAGGCGTGTAACTTTAGTCATAACCTGGTGAACAGTCACCGAACTTGCGTGAGTGTTTCGATATCGATCCTGTCGCCAACAAGACTGGCAAGGGCAGTATTGCAGGGACCGCCGTGTTCCAACTAGGTATGCATAGGTGGGAAGCTAATTCTTCACACATGACTGAGGAGGGCGATTTCCGGGTAAACCTCTCCGTTAATTAGTTCTACAGATACTTTTTCGATTTGCGTCGTTGCGGATTCGAGGGTCTGGGGTATACGGGTCGTGTACCCCTGCAACCTCGGGTCCTGTCGACCAGCTGTGATCATGATGCGATTGTAGTCTTGCAAACCGCAGGCCAACACCCCAATCTCCTTGTATCCGTTAAAGAGACACTAAAACAGAGGTCAAGATGGCCAATCAACGTCTGCAGTTGGAATTGTTCGCCGTACGCA', 'TGGGGATCAATGATAGGCATGACAGACATACGATTTCATTTGCTTCTTAGTAGGCTGACACCTGCGCGATAAATATTCAGTGTAAGCGTTCGTGGCTGTGACCCAACCGAGGATAGTCAGGCTAAGAATCAAAATAAATGTGTCAGTCTGATCGACTAGATGGATTGTACAAACTGGGTCGGTCAATTCCGCTGCTGTTCCCCCAGAAAGTTTAGTGTCCCTATTCTTTTTCTTTTCCATAACACTTAAGTCCGTACTACAATGGTACCGGCACTCTAAAACCTCAAATTATGGAAGATCTTTTGCGACGTCTCTGTACAAGTTCCTCAGCGGCTCACACACCGAGTAGGGGATCAGATGTAATTTGGGGTGATGGCCCGTGGCGTCAAGACTTCTACGTCTAGTAGTGGAGATACGGGGCCGCTCTTTGTTGATATTTCCCATAAGGCAGACTCAAGCCGGTAACGGTGACCCTCACTCACCGATGTGAGTCAAAGCAAGCTTATCACATGAGGCTGGCCTCTTCCAGAGAGGTGATAAACTATGCGAGGCCAGCCACTTCAGCTGCGAGAGCACAGAGTACCATGTTAGCGTAAGTGTATGACCGGTAAACTACGAACTCGGACTGGGCCCGGACGAATTGGCCAGGCCGGTGATGGGGACTGCGAAAGATTCAAGTTAACGCCACAATTAGAGGACGATGGTTCTAATGCTACAACATAAGCATTGGAGGATCACTCTAAGGATATGTACCAGGGTTGGTCCTCTTGACAATACATTGCTGTTTGCAGCTCCTCGCGGCGTCCAATGCACGCGACAG']\n"
     ]
    }
   ],
   "source": [
    "seq_10 = [randseq(randint(100, 1000)) for i in range(10)]\n",
    "print(seq_10)\n"
   ]
  },
  {
   "cell_type": "markdown",
   "metadata": {},
   "source": [
    "4. Подсчитайте частоты нуклеотидов в полученных последовательностях ДНК."
   ]
  },
  {
   "cell_type": "code",
   "execution_count": 56,
   "metadata": {},
   "outputs": [
    {
     "name": "stdout",
     "output_type": "stream",
     "text": [
      "[{'A 118', 'C 129', 'G 126', 'T 107'}, {'A 99', 'G 83', 'C 77', 'T 87'}, {'A 41', 'T 29', 'G 38', 'C 35'}, {'A 103', 'G 116', 'T 89', 'C 95'}, {'G 89', 'T 72', 'A 82', 'C 60'}, {'G 120', 'A 141', 'C 142', 'T 146'}, {'T 165', 'C 175', 'G 185', 'A 173'}, {'C 194', 'G 224', 'T 243', 'A 234'}, {'A 231', 'G 241', 'T 241', 'C 241'}, {'A 215', 'T 207', 'C 190', 'G 208'}]\n"
     ]
    }
   ],
   "source": [
    "frq_10 = [{i + ' ' + str(j.count(i)) for i in \"ACGT\"} for j in seq_10]  \n",
    "print(frq_10)"
   ]
  },
  {
   "cell_type": "markdown",
   "metadata": {},
   "source": [
    "___"
   ]
  },
  {
   "cell_type": "markdown",
   "metadata": {},
   "source": [
    "## 1.4. Получение обратной комплементарной последовательности"
   ]
  },
  {
   "cell_type": "markdown",
   "metadata": {},
   "source": [
    "### Словарь комплементарных пар нуклеотидов"
   ]
  },
  {
   "cell_type": "code",
   "execution_count": 57,
   "metadata": {},
   "outputs": [],
   "source": [
    "compdic = {\n",
    "    'A':'T',\n",
    "    'T':'A',\n",
    "    'C':'G',\n",
    "    'G':'C'\n",
    "}"
   ]
  },
  {
   "cell_type": "markdown",
   "metadata": {},
   "source": [
    "### Словарь комплементарных пар нуклеотидов по коду IUPAC"
   ]
  },
  {
   "cell_type": "code",
   "execution_count": 58,
   "metadata": {},
   "outputs": [],
   "source": [
    "compiupac = {\n",
    "    'A': 'T',\n",
    "    'T': 'A',\n",
    "    'U': 'A',\n",
    "    'C': 'G',\n",
    "    'G': 'C',\n",
    "    'N': 'N',     # любое основание\n",
    "    'R': 'Y',     # A или G : C или T\n",
    "    'Y': 'R',     # C или T : A или G\n",
    "    'M': 'K',     # A или C : G или T\n",
    "    'K': 'M',     # G или T : A или C\n",
    "    'W': 'W',     # A или T : A или T\n",
    "    'S': 'S',     # C или G : C или G\n",
    "    'B': 'V',     # С или G или T : A или C или G\n",
    "    'V': 'B',     # A или C или G : C или G или T\n",
    "    'D': 'H',     # A или G или T : A или C или T\n",
    "    'H': 'D'      # A или C или T : A или G или T\n",
    "}"
   ]
  },
  {
   "cell_type": "markdown",
   "metadata": {},
   "source": [
    "### Функция получения обратной последовательности нуклеотидов"
   ]
  },
  {
   "cell_type": "code",
   "execution_count": 60,
   "metadata": {},
   "outputs": [],
   "source": [
    "def revcompdna(DNAseq):\n",
    "    \"\"\"Get reverse complement DNA\"\"\"\n",
    "    \n",
    "    complements = {'A': 'T', 'T': 'A', 'U': 'A', 'C': 'G', 'G': 'C', 'N': 'N', 'R': 'Y', 'Y': 'R', 'M': 'K', 'K': 'M', 'W': 'W', 'S': 'S', 'B': 'V', 'V': 'B', 'D': 'H', 'H': 'D'}\n",
    "    \n",
    "    if not isinstance(DNAseq, str):\n",
    "        assert False, \"Wrong DNA sequence format (type)\"\n",
    "        \n",
    "    try:\n",
    "        return \"\".join([complements[base] for base in reversed(DNAseq.upper())])\n",
    "    except KeyError:\n",
    "        assert False, \"Wrong DNA sequence format (code)\"\n",
    "        "
   ]
  },
  {
   "cell_type": "markdown",
   "metadata": {},
   "source": [
    "### Получение обратной комплементарной последовательности"
   ]
  },
  {
   "cell_type": "code",
   "execution_count": 61,
   "metadata": {},
   "outputs": [
    {
     "data": {
      "text/plain": [
       "'GCATCAGT'"
      ]
     },
     "execution_count": 61,
     "metadata": {},
     "output_type": "execute_result"
    }
   ],
   "source": [
    "revcompdna(\"actgatgc\")"
   ]
  },
  {
   "cell_type": "markdown",
   "metadata": {},
   "source": [
    "### Задание № 1.4:"
   ]
  },
  {
   "cell_type": "markdown",
   "metadata": {},
   "source": [
    "<img src=\"Images/2_revcompdna.png\" width =\"600\" height=\"600\" style=\"float:left\"/>"
   ]
  },
  {
   "cell_type": "markdown",
   "metadata": {},
   "source": [
    "1. Получите обратную комплементарную последовательность нижней цепи ДНК, показанной на рисунке."
   ]
  },
  {
   "cell_type": "code",
   "execution_count": 63,
   "metadata": {},
   "outputs": [
    {
     "data": {
      "text/plain": [
       "'AGTTGCA'"
      ]
     },
     "execution_count": 63,
     "metadata": {},
     "output_type": "execute_result"
    }
   ],
   "source": [
    "revcompdna(\"TGCAACT\")"
   ]
  },
  {
   "cell_type": "markdown",
   "metadata": {},
   "source": [
    "2. Получите обратную комплементарную последовательность произвольной последовательности ДНК из задания № 1.3."
   ]
  },
  {
   "cell_type": "raw",
   "metadata": {},
   "source": [
    "new_seq = randseq(10)\n",
    "rev_seq = revcompdna(new_seq)\n",
    "print(\"{}\\n{}\\n\".format(new_seq,rev_seq)"
   ]
  },
  {
   "cell_type": "markdown",
   "metadata": {},
   "source": [
    "____"
   ]
  },
  {
   "cell_type": "markdown",
   "metadata": {},
   "source": [
    "## 1.5. Поиск открытых рамок считывания"
   ]
  },
  {
   "cell_type": "markdown",
   "metadata": {},
   "source": [
    "<img src=\"Images/3_gencode.png\" width =\"500\" height=\"500\" style=\"float:left\"/>"
   ]
  },
  {
   "cell_type": "markdown",
   "metadata": {},
   "source": [
    "[Таблицы генетического кода](https://www.ncbi.nlm.nih.gov/Taxonomy/Utils/wprintgc.cgi)"
   ]
  },
  {
   "cell_type": "markdown",
   "metadata": {},
   "source": [
    "### Стандартный генетический код"
   ]
  },
  {
   "cell_type": "raw",
   "metadata": {},
   "source": [
    "Аминокислота = FFLLSSSSYY**CC*WLLLLPPPPHHQQRRRRIIIMTTTTNNKKSSRRVVVVAAAADDEEGGGG\n",
    "Старт        = -----------------------------------М----------------------------\n",
    "Позиция1     = TTTTTTTTTTTTTTTTCCCCCCCCCCCCCCCCAAAAAAAAAAAAAAAAGGGGGGGGGGGGGGGG\n",
    "Позиция2     = TTTTCCCCAAAAGGGGTTTTCCCCAAAAGGGGTTTTCCCCAAAAGGGGTTTTCCCCAAAAGGGG\n",
    "Позиция3     = TCAGTCAGTCAGTCAGTCAGTCAGTCAGTCAGTCAGTCAGTCAGTCAGTCAGTCAGTCAGTCAG"
   ]
  },
  {
   "cell_type": "markdown",
   "metadata": {},
   "source": [
    "### Старт и стоп кодоны в стандартном генетическом коде"
   ]
  },
  {
   "cell_type": "code",
   "execution_count": 64,
   "metadata": {},
   "outputs": [],
   "source": [
    "startcodons = [\"ATG\"]\n",
    "stopcodons = [\"TAA\",\"TAG\",\"TGA\"]"
   ]
  },
  {
   "cell_type": "markdown",
   "metadata": {},
   "source": [
    "### Проверка старт и стоп кодонов"
   ]
  },
  {
   "cell_type": "code",
   "execution_count": 65,
   "metadata": {},
   "outputs": [],
   "source": [
    "def isstart(codon):\n",
    "    \"\"\"Check if triplet is start codon\"\"\"\n",
    "    \n",
    "    startcodons = [\"ATG\"]\n",
    "    \n",
    "    if codon in startcodons:\n",
    "        return True\n",
    "    else:\n",
    "        return False"
   ]
  },
  {
   "cell_type": "code",
   "execution_count": 66,
   "metadata": {},
   "outputs": [],
   "source": [
    "def isstop(codon):\n",
    "    \"\"\"Check if triplet is stop codon\"\"\"\n",
    "    \n",
    "    stopcodons = [\"TAA\",\"TAG\",\"TGA\"]\n",
    "    \n",
    "    if codon in stopcodons:\n",
    "        return True\n",
    "    else:\n",
    "        return False"
   ]
  },
  {
   "cell_type": "code",
   "execution_count": 67,
   "metadata": {},
   "outputs": [
    {
     "data": {
      "text/plain": [
       "True"
      ]
     },
     "execution_count": 67,
     "metadata": {},
     "output_type": "execute_result"
    }
   ],
   "source": [
    "isstop(\"TGA\")"
   ]
  },
  {
   "cell_type": "code",
   "execution_count": 68,
   "metadata": {},
   "outputs": [
    {
     "data": {
      "text/plain": [
       "False"
      ]
     },
     "execution_count": 68,
     "metadata": {},
     "output_type": "execute_result"
    }
   ],
   "source": [
    "пиримидиновых и пуриновыхisstart(\"AAA\")"
   ]
  },
  {
   "cell_type": "markdown",
   "metadata": {},
   "source": [
    "### Поиск триплетов в нуклеотидной последовательности"
   ]
  },
  {
   "cell_type": "code",
   "execution_count": 69,
   "metadata": {},
   "outputs": [],
   "source": [
    "def find_codons(DNAseq, frame = 1):\n",
    "    \"\"\"Get all tripletes based on chosen frame\"\"\"\n",
    "\n",
    "    frames = [1,2,3,-1,-2,-3]\n",
    "    \n",
    "    collector = []\n",
    "    \n",
    "    if isinstance(DNAseq,str) and frame in frames:\n",
    "        if(frame < 0):\n",
    "            DNAseq = revcompdna(DNAseq)\n",
    "            frame = abs(frame)\n",
    "        \n",
    "        triplet = \"\"\n",
    "        for nuc in DNAseq[frame-1:]:\n",
    "            triplet = triplet + nuc\n",
    "            if len(triplet) == 3:\n",
    "                collector.append(triplet)\n",
    "                triplet = \"\"        \n",
    "        return collector\n",
    "    else:\n",
    "        assert False,\"Wrong input format\""
   ]
  },
  {
   "cell_type": "code",
   "execution_count": 70,
   "metadata": {},
   "outputs": [
    {
     "data": {
      "text/plain": [
       "['AAC', 'TGA']"
      ]
     },
     "execution_count": 70,
     "metadata": {},
     "output_type": "execute_result"
    }
   ],
   "source": [
    "find_codons(\"AACTGACC\",frame=1)"
   ]
  },
  {
   "cell_type": "markdown",
   "metadata": {},
   "source": [
    "### Класс для хранения открытой рамки считывания"
   ]
  },
  {
   "cell_type": "code",
   "execution_count": 85,
   "metadata": {},
   "outputs": [],
   "source": [
    "class ORF(object):\n",
    "    \"\"\"Class object for Open Reading Frame\"\"\"\n",
    "    \n",
    "    def __init__(self,seq,strain,frame,start,stop):\n",
    "        self.seq = seq\n",
    "        self.length = len(seq)\n",
    "        self.strain = strain\n",
    "        self.frame = frame\n",
    "        self.start = start\n",
    "        self.startcod = seq[:3]\n",
    "        self.stop = stop\n",
    "        self.stopcod = seq[-3:]\n",
    "        self.annotation = \"\"\n",
    "        \n",
    "    def report(self):\n",
    "        print(\"Последовательность ORF:\",self.seq)\n",
    "        print(\"Длина последовательности:\", self.length, \"п.н.\")\n",
    "        print(\"Рамка считывания:\", self.frame)\n",
    "        print(\"Стартовая позиция:\", self.start)\n",
    "        print(\"Стоповая позиция:\", self.stop)"
   ]
  },
  {
   "cell_type": "markdown",
   "metadata": {},
   "source": [
    "### Поиск открытых рамок считывания  (ORF finder)"
   ]
  },
  {
   "cell_type": "code",
   "execution_count": 86,
   "metadata": {},
   "outputs": [],
   "source": [
    "def ORF_finder(DNAseq, minlen=50):\n",
    "    \"\"\"Find all open reading frames\"\"\"\n",
    "\n",
    "    frames = [1,2,3,-1,-2,-3]\n",
    "    check_start = True\n",
    "    ORFs = []\n",
    "    final_rezult = []\n",
    "    \n",
    "    for frame in frames:\n",
    "        codons = find_codons(DNAseq,frame=frame)\n",
    "        \n",
    "        for i,codon in enumerate(codons):\n",
    "\n",
    "            if isstart(codon) and check_start:           \n",
    "                if(frame > 0):\n",
    "                    startpos = (i+1) * 3 - 2 + frame - 1\n",
    "                else:\n",
    "                    startpos = len(DNAseq) - (i+1) * 3 + 3 + frame + 1\n",
    "                ORFs = [codon]\n",
    "                check_start = False\n",
    "\n",
    "            elif isstop(codon):\n",
    "                ORFs.append(codon)\n",
    "                result = \"\".join(ORFs)\n",
    "                if len(result) >= minlen and isstart(result[:3]):\n",
    "                    if frame > 0:\n",
    "                        strain = \"+\"\n",
    "                        stoppos = startpos + len(result) - 1\n",
    "                    else:\n",
    "                        strain = \"-\"\n",
    "                        stoppos = startpos - len(result) + 1\n",
    "                    final_rezult.append(ORF(result,strain,frame,startpos,stoppos))\n",
    "                ORFs = []\n",
    "                check_start = True\n",
    "\n",
    "            else:\n",
    "                ORFs.append(codon)\n",
    "\n",
    "        result = \"\".join(ORFs)\n",
    "        if len(result) >= minlen and isstart(result[:3]):\n",
    "            if frame > 0:\n",
    "                strain = \"+\"\n",
    "                stoppos = startpos + len(result) - 1\n",
    "            else:\n",
    "                strain = \"-\"\n",
    "                stoppos = startpos - len(result) + 1\n",
    "            final_rezult.append(ORF(result,strain,frame,startpos,stoppos))  \n",
    "\n",
    "    return final_rezult"
   ]
  },
  {
   "cell_type": "markdown",
   "metadata": {},
   "source": [
    "### Поиск открытых рамок считывания (пример фрагмента гена INS)"
   ]
  },
  {
   "cell_type": "code",
   "execution_count": 75,
   "metadata": {},
   "outputs": [
    {
     "data": {
      "text/plain": [
       "'AGCCCTCCAGGACAGGCTGCATCAGAAGAGGCCATCAAGCAGGTCTGTTCCAAGGGCCTTTGCGTCAGGTGGGCTCAGGATTCCAGGGTGGCTGGACCCCAGGCCCCAGCTCTGCAGCAGGGAGGACGTGGCTGGGCTCGTGAAGCATGTGGGGGTGAGCCCAGGGGCCCCAAGGCAGGGCACCTGGCCTTCAGCCTGCCTCAGCCCTGCCTGTCTCCCAGATCACTGTCCTTCTGCCATGGCCCTGTGGATGCGCCTCCTGCCCCTGCTGGCGCTGCTGGCCCTCTGGGGACCTGACCCAGCCGCAGCCTTTGTGAACCAACACCTGTGCGGCTCACACCTGGTGGAAGCTCTCTACCTAGTGTGCGGGGAACGAGGCTTCTTCTACACACCCAAGACCCGCCGGGAGGCAGAGGACCTGCAGGGTGAGCCAACTGCCCATTGCTGCCCCTGGCCGCCCCCAGCCACCCCCTGCTCCTGGCGCTCCCACCCAGCATGGGCAGAAGGGGGCAGGAGGCTGCCACCCAGCAGGGGGTCAGGTGCACTTTTTTAAAAAGAAGTTCTCTTGGTCACGTCCTAAAAGTGACCAGCTCCCTGTGGCCCAGTCAGAATCTCAGCCTGAGGACGGTGTTGGCTTCGGCAGCCCCGAGATACATCAGAGGGTGGGCACGCTCCTCCCTCCACTCGCCCCTCAAACAAATGCCCCGCAGCCCATTTCTCCACCCTCATTTGATGACCGCAGATTCAAGTGTTTTGTTAAGTAAAGTCCTGGGTGACCTGGGGTCACAGGGTGCCCCACGCTGCCTGCCTCTGGGCGAACACCCCATCACGCCCGGAGGAGGGCGTGGCTGCCTGCCTGAGTGGGCCAGACCCCTGTCGCCAGGCCTCACGGCAGCTCCATAGTCAGGAGATGGGGAAGATGCTGGGGACAGGCCCTGGGGAGAAGTACTGGGATCACCTGTTCAGGCTCCCACTGTGACGCTGCCCCGGGGCGGGGGAAGGAGGTGGGACATGTGGGCGTTGGGGCCTGTAGGTCCACACCCAGTGTGGGTGACCCTCCCTCTAACCTGGGTCCAGCCCGGCTGGAGATGGGTGGGAGTGCGACCTAGGGCTGGCGGGCAGGCGGGCACTGTGTCTCCCTGACTGTGTCCTCCTGTGTCCCTCTGCCTCGCCGCTGTTCCGGAACCTGCTCTGCGCGGCACGTCCTGGCAGTGGGGCAGGTGGAGCTGGGCGGGGGCCCTGGTGCAGGCAGCCTGCAGCCCTTGGCCCTGGAGGGGTCCCTGCAGAAGCGTGGCATTGTGGAACAATGCTGTACCAGCATCTGCTCCCTCTACCAGCTGGAGAACTACTGCAACTAGACGCAGCCCGCAGGCAGCCCCACACCCGCCGCCTCCTGCACCGAGAGAGATGGAATAAAGCCCTTGAACCAGC'"
      ]
     },
     "execution_count": 75,
     "metadata": {},
     "output_type": "execute_result"
    }
   ],
   "source": [
    "DNA = \"AGCCCTCCAGGACAGGCTGCATCAGAAGAGGCCATCAAGCAGGTCTGTTCCAAGGGCCTTTGCGTCAGGTGGGCTCAGGATTCCAGGGTGGCTGGACCCCAGGCCCCAGCTCTGCAGCAGGGAGGACGTGGCTGGGCTCGTGAAGCATGTGGGGGTGAGCCCAGGGGCCCCAAGGCAGGGCACCTGGCCTTCAGCCTGCCTCAGCCCTGCCTGTCTCCCAGATCACTGTCCTTCTGCCATGGCCCTGTGGATGCGCCTCCTGCCCCTGCTGGCGCTGCTGGCCCTCTGGGGACCTGACCCAGCCGCAGCCTTTGTGAACCAACACCTGTGCGGCTCACACCTGGTGGAAGCTCTCTACCTAGTGTGCGGGGAACGAGGCTTCTTCTACACACCCAAGACCCGCCGGGAGGCAGAGGACCTGCAGGGTGAGCCAACTGCCCATTGCTGCCCCTGGCCGCCCCCAGCCACCCCCTGCTCCTGGCGCTCCCACCCAGCATGGGCAGAAGGGGGCAGGAGGCTGCCACCCAGCAGGGGGTCAGGTGCACTTTTTTAAAAAGAAGTTCTCTTGGTCACGTCCTAAAAGTGACCAGCTCCCTGTGGCCCAGTCAGAATCTCAGCCTGAGGACGGTGTTGGCTTCGGCAGCCCCGAGATACATCAGAGGGTGGGCACGCTCCTCCCTCCACTCGCCCCTCAAACAAATGCCCCGCAGCCCATTTCTCCACCCTCATTTGATGACCGCAGATTCAAGTGTTTTGTTAAGTAAAGTCCTGGGTGACCTGGGGTCACAGGGTGCCCCACGCTGCCTGCCTCTGGGCGAACACCCCATCACGCCCGGAGGAGGGCGTGGCTGCCTGCCTGAGTGGGCCAGACCCCTGTCGCCAGGCCTCACGGCAGCTCCATAGTCAGGAGATGGGGAAGATGCTGGGGACAGGCCCTGGGGAGAAGTACTGGGATCACCTGTTCAGGCTCCCACTGTGACGCTGCCCCGGGGCGGGGGAAGGAGGTGGGACATGTGGGCGTTGGGGCCTGTAGGTCCACACCCAGTGTGGGTGACCCTCCCTCTAACCTGGGTCCAGCCCGGCTGGAGATGGGTGGGAGTGCGACCTAGGGCTGGCGGGCAGGCGGGCACTGTGTCTCCCTGACTGTGTCCTCCTGTGTCCCTCTGCCTCGCCGCTGTTCCGGAACCTGCTCTGCGCGGCACGTCCTGGCAGTGGGGCAGGTGGAGCTGGGCGGGGGCCCTGGTGCAGGCAGCCTGCAGCCCTTGGCCCTGGAGGGGTCCCTGCAGAAGCGTGGCATTGTGGAACAATGCTGTACCAGCATCTGCTCCCTCTACCAGCTGGAGAACTACTGCAACTAGACGCAGCCCGCAGGCAGCCCCACACCCGCCGCCTCCTGCACCGAGAGAGATGGAATAAAGCCCTTGAACCAGC\"\n",
    "DNA"
   ]
  },
  {
   "cell_type": "code",
   "execution_count": 76,
   "metadata": {},
   "outputs": [
    {
     "data": {
      "text/plain": [
       "1431"
      ]
     },
     "execution_count": 76,
     "metadata": {},
     "output_type": "execute_result"
    }
   ],
   "source": [
    "len(DNA)"
   ]
  },
  {
   "cell_type": "markdown",
   "metadata": {},
   "source": [
    "#### Поиск ORF"
   ]
  },
  {
   "cell_type": "code",
   "execution_count": 77,
   "metadata": {},
   "outputs": [],
   "source": [
    "INS = ORF_finder(DNA,minlen=200)"
   ]
  },
  {
   "cell_type": "markdown",
   "metadata": {},
   "source": [
    "#### Количество обнаруженных ORF"
   ]
  },
  {
   "cell_type": "code",
   "execution_count": 78,
   "metadata": {
    "scrolled": true
   },
   "outputs": [
    {
     "data": {
      "text/plain": [
       "5"
      ]
     },
     "execution_count": 78,
     "metadata": {},
     "output_type": "execute_result"
    }
   ],
   "source": [
    "len(INS)"
   ]
  },
  {
   "cell_type": "markdown",
   "metadata": {},
   "source": [
    "#### Самая длинная ORF"
   ]
  },
  {
   "cell_type": "code",
   "execution_count": 79,
   "metadata": {},
   "outputs": [],
   "source": [
    "maxorf = IUPACsorted(INS, key = lambda x: x.length, reverse=True)[0]"
   ]
  },
  {
   "cell_type": "code",
   "execution_count": 80,
   "metadata": {},
   "outputs": [
    {
     "name": "stdout",
     "output_type": "stream",
     "text": [
      "Последовательность ORF: ATGGGCAGAAGGGGGCAGGAGGCTGCCACCCAGCAGGGGGTCAGGTGCACTTTTTTAAAAAGAAGTTCTCTTGGTCACGTCCTAAAAGTGACCAGCTCCCTGTGGCCCAGTCAGAATCTCAGCCTGAGGACGGTGTTGGCTTCGGCAGCCCCGAGATACATCAGAGGGTGGGCACGCTCCTCCCTCCACTCGCCCCTCAAACAAATGCCCCGCAGCCCATTTCTCCACCCTCATTTGATGACCGCAGATTCAAGTGTTTTGTTAAGTAAAGTCCTGGGTGACCTGGGGTCACAGGGTGCCCCACGCTGCCTGCCTCTGGGCGAACACCCCATCACGCCCGGAGGAGGGCGTGGCTGCCTGCCTGAGTGGGCCAGACCCCTGTCGCCAGGCCTCACGGCAGCTCCATAG\n",
      "Длина последовательности: 408 п.н.\n",
      "Рамка считывания: 1\n",
      "Стартовая позиция: 496\n",
      "Стоповая позиция: 903\n"
     ]
    }
   ],
   "source": [
    "maxorf.report()"
   ]
  },
  {
   "cell_type": "markdown",
   "metadata": {},
   "source": [
    "### Задание № 1.5:"
   ]
  },
  {
   "cell_type": "markdown",
   "metadata": {},
   "source": [
    "1. Создайте произвольную последовательность нуклеотидов длиной 1500 п.н."
   ]
  },
  {
   "cell_type": "code",
   "execution_count": 81,
   "metadata": {},
   "outputs": [
    {
     "data": {
      "text/plain": [
       "'TAGGTGACTTCACGTCTGCCGCTATGCTTGTAGCTGTAATGGACAGTTATGTGTTACGCAGGATACTTTGTGGTCCTATGAGATGCCTTCAACAACGTCTTGGGTTCTCATAGCACGAGACCCGTCTAAGGAATGCCCATACGTTAAGATTCCCCGGGATACCACTAGAAATGCATTCCGTGATAAACGTCTCGCGTAATTTGGATCACGACGTAGAAAGAGCGAAATTCATGCCGCCATCACACTAGAACAAGTCGTCTGGTTCCATACCGGCAGGACCCTTATTTGGGCTAACGGTACATGTGCTATTAGACTGCGTGCAAGGACCACCTCCCATCTGTCCTACATGCAACGACCGGAGAGCGATTATATGGCGGAGCATACTTGTCCCCGGTCCGTTGGAACGTTCTAAACAATAAGCCCCTCTGTCCCCGGGCCCTCGCATTAGAATGATTCAAGGGGGATTAGATCACACGTACGCCACATTCTGATGACTCCCTGAGCACAAAGTTCCGCGAGGTAGTGCCGTCACAAGCAGTTGGATGGTGGCCTGATCGACTCTAAGACCTGAATCACGCGGGATCGGTTGTTGATCCCCTTGTGGACCACAATCTGTGTGAGAAGACTCACACACGCATCGTGCGCTGGAAGACATAAGGGCTGCCGCTAGCCAGTCACATTCTCAAACGACTGTGAGCATCTTGGCCGCTGTTTATGTTAGTGCAACGCTAGCGACGTAGTAGGCAGGATAAGCAACCGGTATTGATATTCGCTGGGTCAGTGTTAATCGAGATCGACCAGCACGTTCGCATGCCCAAGCACGAACCGGATTATGGTCACTTACGGCTACCGAACCAAGCCTGCCGGCGAATAGTAGAAGGGTTGGGCCGGACATACTGCAAGATGCGGCGTGATTCCACGGTTACTAACGCGCCTATGTTCATGGCTTAGGTAGTCACGGCATCAGCCGTTGAAGTCGGAATAGTCATTATACGCATAGTAGTACCCTGCGTCAGTCATTTGAATTACCGGCTACGGGACCTCCAGGTAAATCAACCCTCTTAACCAGCGAACACACCATCAGAACTAACTACTCTCAGCTTCCGATGAGTCTCATATCCGACCACCGGTTTTGTTACCGTTATTACTCGCGTGAAGGGATCCCTAGTAGCCATTGCTAAGGCCGCTGCGCATGCGGTGTGCAAAGTACCCCACAAACTGTGCGACGGCAAAGTCAGGGGACAAAAGTGCTGGCTTCTACTGTTAGTAGGCGGCATTGGCTCGGGTCCCTGTTTGGTTTGAGAGAGTTCTAATGGAAATTCCGATCTGCTGGAGCCAGGCTGCCCATAAATTCTATAGAATACGCGATCAAGTACGCCAGATCTGTTGGCGTGCTTTGGAGACATGCTAGATCATGGCCATGACGCTCGCGCATGTAAGTTCAGTTCCGCTTGGCTCTCTAAATTTTTGCTAGAGGACTCCTCGGTGTCTACCACTAGG'"
      ]
     },
     "execution_count": 81,
     "metadata": {},
     "output_type": "execute_result"
    }
   ],
   "source": [
    "seq = randseq(1500)\n",
    "seq"
   ]
  },
  {
   "cell_type": "markdown",
   "metadata": {},
   "source": [
    "2. Найдите все возможные открытые рамки считывания длиной более > 50 п.н."
   ]
  },
  {
   "cell_type": "code",
   "execution_count": 98,
   "metadata": {},
   "outputs": [
    {
     "name": "stdout",
     "output_type": "stream",
     "text": [
      "Последовательность ORF: ATGCCCAAGCACGAACCGGATTATGGTCACTTACGGCTACCGAACCAAGCCTGCCGGCGAATAGTAGAAGGGTTGGGCCGGACATACTGCAAGATGCGGCGTGATTCCACGGTTACTAACGCGCCTATGTTCATGGCTTAG\n",
      "Длина последовательности: 141 п.н.\n",
      "Рамка считывания: 1\n",
      "Стартовая позиция: 811\n",
      "Стоповая позиция: 951\n",
      "Последовательность ORF: ATGCTAGATCATGGCCATGACGCTCGCGCATGTAAGTTCAGTTCCGCTTGGCTCTCTAAATTTTTGCTAGAGGACTCCTCGGTGTCTACCACTAGG\n",
      "Длина последовательности: 96 п.н.\n",
      "Рамка считывания: 1\n",
      "Стартовая позиция: 1405\n",
      "Стоповая позиция: 1500\n",
      "Последовательность ORF: ATGCTAGATCATGGCCATGACGCTCGCGCATGTAAGTTCAGTTCCGCTTGGCTCTCTAAATTTTTGCTAGAGGACTCCTCGGTGTCTACCACTAGGAGGTGA\n",
      "Длина последовательности: 102 п.н.\n",
      "Рамка считывания: 2\n",
      "Стартовая позиция: 1405\n",
      "Стоповая позиция: 1506\n",
      "Последовательность ORF: ATGCCTTCAACAACGTCTTGGGTTCTCATAGCACGAGACCCGTCTAAGGAATGCCCATACGTTAAGATTCCCCGGGATACCACTAGAAATGCATTCCGTGATAAACGTCTCGCGTAA\n",
      "Длина последовательности: 117 п.н.\n",
      "Рамка считывания: 2\n",
      "Стартовая позиция: 83\n",
      "Стоповая позиция: 199\n",
      "Последовательность ORF: ATGCAACGACCGGAGAGCGATTATATGGCGGAGCATACTTGTCCCCGGTCCGTTGGAACGTTCTAA\n",
      "Длина последовательности: 66 п.н.\n",
      "Рамка считывания: 2\n",
      "Стартовая позиция: 347\n",
      "Стоповая позиция: 412\n",
      "Последовательность ORF: ATGCGGTGTGCAAAGTACCCCACAAACTGTGCGACGGCAAAGTCAGGGGACAAAAGTGCTGGCTTCTACTGTTAG\n",
      "Длина последовательности: 75 п.н.\n",
      "Рамка считывания: 2\n",
      "Стартовая позиция: 1193\n",
      "Стоповая позиция: 1267\n",
      "Последовательность ORF: ATGGAAATTCCGATCTGCTGGAGCCAGGCTGCCCATAAATTCTATAGAATACGCGATCAAGTACGCCAGATCTGTTGGCGTGCTTTGGAGACATGCTAG\n",
      "Длина последовательности: 99 п.н.\n",
      "Рамка считывания: 2\n",
      "Стартовая позиция: 1313\n",
      "Стоповая позиция: 1411\n",
      "Последовательность ORF: ATGGCCATGACGCTCGCGCATGTAAGTTCAGTTCCGCTTGGCTCTCTAAATTTTTGCTAG\n",
      "Длина последовательности: 60 п.н.\n",
      "Рамка считывания: 2\n",
      "Стартовая позиция: 1415\n",
      "Стоповая позиция: 1474\n",
      "Последовательность ORF: ATGCTTGTAGCTGTAATGGACAGTTATGTGTTACGCAGGATACTTTGTGGTCCTATGAGATGCCTTCAACAACGTCTTGGGTTCTCATAG\n",
      "Длина последовательности: 90 п.н.\n",
      "Рамка считывания: 3\n",
      "Стартовая позиция: 24\n",
      "Стоповая позиция: 113\n",
      "Последовательность ORF: ATGCATTCCGTGATAAACGTCTCGCGTAATTTGGATCACGACGTAGAAAGAGCGAAATTCATGCCGCCATCACACTAG\n",
      "Длина последовательности: 78 п.н.\n",
      "Рамка считывания: 3\n",
      "Стартовая позиция: 171\n",
      "Стоповая позиция: 248\n",
      "Последовательность ORF: ATGAGTCTCATATCCGACCACCGGTTTTGTTACCGTTATTACTCGCGTGAAGGGATCCCTAGTAGCCATTGCTAA\n",
      "Длина последовательности: 75 п.н.\n",
      "Рамка считывания: 3\n",
      "Стартовая позиция: 1107\n",
      "Стоповая позиция: 1181\n",
      "Последовательность ORF: ATGACTGACGCAGGGTACTACTATGCGTATAATGACTATTCCGACTTCAACGGCTGA\n",
      "Длина последовательности: 57 п.н.\n",
      "Рамка считывания: -1\n",
      "Стартовая позиция: 1020\n",
      "Стоповая позиция: 964\n",
      "Последовательность ORF: ATGTCTCCAAAGCACGCCAACAGATCTGGCGTACTTGATCGCGTATTCTATAGAATTTATGGGCAGCCTGGCTCCAGCAGATCGGAATTTCCATTAGAACTCTCTCAAACCAAACAGGGACCCGAGCCAATGCCGCCTACTAACAGTAGAAGCCAGCACTTTTGTCCCCTGACTTTGCCGTCGCACAGTTTGTGGGGTACTTTGCACACCGCATGCGCAGCGGCCTTAGCAATGGCTACTAGGGATCCCTTCACGCGAGTAATAACGGTAACAAAACCGGTGGTCGGATATGAGACTCATCGGAAGCTGAGAGTAGTTAGTTCTGATGGTGTGTTCGCTGGTTAA\n",
      "Длина последовательности: 345 п.н.\n",
      "Рамка считывания: -2\n",
      "Стартовая позиция: 1406\n",
      "Стоповая позиция: 1062\n",
      "Последовательность ORF: ATGCGTATAATGACTATTCCGACTTCAACGGCTGATGCCGTGACTACCTAA\n",
      "Длина последовательности: 51 п.н.\n",
      "Рамка считывания: -2\n",
      "Стартовая позиция: 998\n",
      "Стоповая позиция: 948\n",
      "Последовательность ORF: ATGAACATAGGCGCGTTAGTAACCGTGGAATCACGCCGCATCTTGCAGTATGTCCGGCCCAACCCTTCTACTATTCGCCGGCAGGCTTGGTTCGGTAGCCGTAAGTGA\n",
      "Длина последовательности: 108 п.н.\n",
      "Рамка считывания: -2\n",
      "Стартовая позиция: 944\n",
      "Стоповая позиция: 837\n",
      "Последовательность ORF: ATGCGAACGTGCTGGTCGATCTCGATTAACACTGACCCAGCGAATATCAATACCGGTTGCTTATCCTGCCTACTACGTCGCTAG\n",
      "Длина последовательности: 84 п.н.\n",
      "Рамка считывания: -2\n",
      "Стартовая позиция: 812\n",
      "Стоповая позиция: 729\n",
      "Последовательность ORF: ATGCGCGAGCGTCATGGCCATGATCTAGCATGTCTCCAAAGCACGCCAACAGATCTGGCGTACTTGATCGCGTATTCTATAGAATTTATGGGCAGCCTGGCTCCAGCAGATCGGAATTTCCATTAG\n",
      "Длина последовательности: 126 п.н.\n",
      "Рамка считывания: -3\n",
      "Стартовая позиция: 1435\n",
      "Стоповая позиция: 1310\n",
      "Последовательность ORF: ATGGTGTGTTCGCTGGTTAAGAGGGTTGATTTACCTGGAGGTCCCGTAGCCGGTAATTCAAATGACTGA\n",
      "Длина последовательности: 69 п.н.\n",
      "Рамка считывания: -3\n",
      "Стартовая позиция: 1081\n",
      "Стоповая позиция: 1013\n",
      "Последовательность ORF: ATGTCCGGCCCAACCCTTCTACTATTCGCCGGCAGGCTTGGTTCGGTAGCCGTAAGTGACCATAATCCGGTTCGTGCTTGGGCATGCGAACGTGCTGGTCGATCTCGATTAACACTGACCCAGCGAATATCAATACCGGTTGCTTATCCTGCCTACTACGTCGCTAGCGTTGCACTAACATAA\n",
      "Длина последовательности: 183 п.н.\n",
      "Рамка считывания: -3\n",
      "Стартовая позиция: 895\n",
      "Стоповая позиция: 713\n",
      "Последовательность ORF: ATGTCTTCCAGCGCACGATGCGTGTGTGAGTCTTCTCACACAGATTGTGGTCCACAAGGGGATCAACAACCGATCCCGCGTGATTCAGGTCTTAGAGTCGATCAGGCCACCATCCAACTGCTTGTGACGGCACTACCTCGCGGAACTTTGTGCTCAGGGAGTCATCAGAATGTGGCGTACGTGTGA\n",
      "Длина последовательности: 186 п.н.\n",
      "Рамка считывания: -3\n",
      "Стартовая позиция: 655\n",
      "Стоповая позиция: 470\n",
      "Последовательность ORF: ATGCGAGGGCCCGGGGACAGAGGGGCTTATTGTTTAGAACGTTCCAACGGACCGGGGACAAGTATGCTCCGCCATATAATCGCTCTCCGGTCGTTGCATGTAGGACAGATGGGAGGTGGTCCTTGCACGCAGTCTAATAGCACATGTACCGTTAGCCCAAATAAGGGTCCTGCCGGTATGGAACCAGACGACTTGTTCTAG\n",
      "Длина последовательности: 201 п.н.\n",
      "Рамка считывания: -3\n",
      "Стартовая позиция: 445\n",
      "Стоповая позиция: 245\n"
     ]
    }
   ],
   "source": [
    "orfs = ORF_finder(seq, 50)\n",
    "for i in orfs:\n",
    "    i.report()"
   ]
  },
  {
   "cell_type": "markdown",
   "metadata": {},
   "source": [
    "3. Найдите самую длинную ORF."
   ]
  },
  {
   "cell_type": "code",
   "execution_count": 101,
   "metadata": {},
   "outputs": [
    {
     "name": "stdout",
     "output_type": "stream",
     "text": [
      "Последовательность ORF: ATGTCTCCAAAGCACGCCAACAGATCTGGCGTACTTGATCGCGTATTCTATAGAATTTATGGGCAGCCTGGCTCCAGCAGATCGGAATTTCCATTAGAACTCTCTCAAACCAAACAGGGACCCGAGCCAATGCCGCCTACTAACAGTAGAAGCCAGCACTTTTGTCCCCTGACTTTGCCGTCGCACAGTTTGTGGGGTACTTTGCACACCGCATGCGCAGCGGCCTTAGCAATGGCTACTAGGGATCCCTTCACGCGAGTAATAACGGTAACAAAACCGGTGGTCGGATATGAGACTCATCGGAAGCTGAGAGTAGTTAGTTCTGATGGTGTGTTCGCTGGTTAA\n",
      "Длина последовательности: 345 п.н.\n",
      "Рамка считывания: -2\n",
      "Стартовая позиция: 1406\n",
      "Стоповая позиция: 1062\n"
     ]
    }
   ],
   "source": [
    "maximum = -1\n",
    "for i in orfs:\n",
    "    maximum = max(maximum, i.length)\n",
    "for i in orfs:\n",
    "    if i.length == maximum:\n",
    "        maximum = i\n",
    "        break\n",
    "maximum.report()"
   ]
  },
  {
   "cell_type": "markdown",
   "metadata": {},
   "source": [
    "4. Покажите старт и стоп кодоны самой длинной ORF."
   ]
  },
  {
   "cell_type": "code",
   "execution_count": 104,
   "metadata": {},
   "outputs": [
    {
     "name": "stdout",
     "output_type": "stream",
     "text": [
      "ATG \n",
      " TAA\n"
     ]
    }
   ],
   "source": [
    "print(maximum.startcod, \"\\n\" ,maximum.stopcod)"
   ]
  },
  {
   "cell_type": "markdown",
   "metadata": {},
   "source": [
    "5. Покажите старт и стоп позицию самой длинной ORF в произвольной последовательности."
   ]
  },
  {
   "cell_type": "code",
   "execution_count": 107,
   "metadata": {},
   "outputs": [],
   "source": [
    "new_frq = randseq(100)\n",
    "x = "
   ]
  },
  {
   "cell_type": "markdown",
   "metadata": {},
   "source": [
    "6. Посчитайте частоты нуклеотидов в самой длинной ORF."
   ]
  },
  {
   "cell_type": "code",
   "execution_count": 106,
   "metadata": {},
   "outputs": [
    {
     "data": {
      "text/plain": [
       "['A 87', 'C 88', 'G 86', 'T 84']"
      ]
     },
     "execution_count": 106,
     "metadata": {},
     "output_type": "execute_result"
    }
   ],
   "source": [
    "frq = [i + ' ' + str(maximum.seq.count(i)) for i in \"ACGT\"]\n",
    "frq"
   ]
  },
  {
   "cell_type": "markdown",
   "metadata": {},
   "source": [
    "## 1.6. Трансляция"
   ]
  },
  {
   "cell_type": "markdown",
   "metadata": {},
   "source": [
    "### Строение аминокислоты"
   ]
  },
  {
   "cell_type": "markdown",
   "metadata": {},
   "source": [
    "<img src=\"https://upload.wikimedia.org/wikipedia/commons/6/66/AminoAcidball_rus.svg\" width=400 height=300 style=\"float:left\"/>"
   ]
  },
  {
   "cell_type": "markdown",
   "metadata": {},
   "source": [
    "### Типы и свойства аминокислот"
   ]
  },
  {
   "cell_type": "markdown",
   "metadata": {},
   "source": [
    "<img src=\"https://www.compoundchem.com/wp-content/uploads/2014/09/20-Common-Amino-Acids-v3.png\" width=800 height=500 style=\"float:left\"/>"
   ]
  },
  {
   "cell_type": "markdown",
   "metadata": {},
   "source": [
    "### Таблица трансляции (стандартный код)"
   ]
  },
  {
   "cell_type": "code",
   "execution_count": null,
   "metadata": {},
   "outputs": [],
   "source": [
    "table1 =  {\n",
    "    \"TTT\" : \"F\", \"CTT\" : \"L\", \"ATT\" : \"I\", \"GTT\" : \"V\",\n",
    "    \"TTC\" : \"F\", \"CTC\" : \"L\", \"ATC\" : \"I\", \"GTC\" : \"V\",\n",
    "    \"TTA\" : \"L\", \"CTA\" : \"L\", \"ATA\" : \"I\", \"GTA\" : \"V\",\n",
    "    \"TTG\" : \"L\", \"CTG\" : \"L\", \"ATG\" : \"M\", \"GTG\" : \"V\",\n",
    "    \"TCT\" : \"S\", \"CCT\" : \"P\", \"ACT\" : \"T\", \"GCT\" : \"A\",\n",
    "    \"TCC\" : \"S\", \"CCC\" : \"P\", \"ACC\" : \"T\", \"GCC\" : \"A\",\n",
    "    \"TCA\" : \"S\", \"CCA\" : \"P\", \"ACA\" : \"T\", \"GCA\" : \"A\",\n",
    "    \"TCG\" : \"S\", \"CCG\" : \"P\", \"ACG\" : \"T\", \"GCG\" : \"A\",\n",
    "    \"TAT\" : \"Y\", \"CAT\" : \"H\", \"AAT\" : \"N\", \"GAT\" : \"D\",\n",
    "    \"TAC\" : \"Y\", \"CAC\" : \"H\", \"AAC\" : \"N\", \"GAC\" : \"D\",\n",
    "    \"TAA\" : \"*\", \"CAA\" : \"Q\", \"AAA\" : \"K\", \"GAA\" : \"E\",\n",
    "    \"TAG\" : \"*\", \"CAG\" : \"Q\", \"AAG\" : \"K\", \"GAG\" : \"E\",\n",
    "    \"TGT\" : \"C\", \"CGT\" : \"R\", \"AGT\" : \"S\", \"GGT\" : \"G\",\n",
    "    \"TGC\" : \"C\", \"CGC\" : \"R\", \"AGC\" : \"S\", \"GGC\" : \"G\",\n",
    "    \"TGA\" : \"*\", \"CGA\" : \"R\", \"AGA\" : \"R\", \"GGA\" : \"G\",\n",
    "    \"TGG\" : \"W\", \"CGG\" : \"R\", \"AGG\" : \"R\", \"GGG\" : \"G\" \n",
    "}"
   ]
  },
  {
   "cell_type": "markdown",
   "metadata": {},
   "source": [
    "### Трансляция (первый вариант кода)"
   ]
  },
  {
   "cell_type": "code",
   "execution_count": null,
   "metadata": {},
   "outputs": [],
   "source": [
    "protein_sequence = \"\"\n",
    "for i in range(0, maxorf.length - 3 + maxorf.length % 3, 3):\n",
    "    if table1[maxorf.seq[i:i+3]] == \"*\" :\n",
    "        break\n",
    "    protein_sequence += table1[maxorf.seq[i:i+3]]\n",
    "protein_sequence"
   ]
  },
  {
   "cell_type": "markdown",
   "metadata": {},
   "source": [
    "### Трансляция (второй вариант кода)"
   ]
  },
  {
   "cell_type": "code",
   "execution_count": null,
   "metadata": {},
   "outputs": [],
   "source": [
    "\"\".join(map(lambda x: table1[x],find_codons(maxorf.seq)))"
   ]
  },
  {
   "cell_type": "markdown",
   "metadata": {},
   "source": [
    "### Задание № 1.6:"
   ]
  },
  {
   "cell_type": "markdown",
   "metadata": {},
   "source": [
    "1. Получите последовательность аминокислот путем трансляции самой длинной открытой рамки считывания в ранее созданной произвольной последовательности ДНК."
   ]
  },
  {
   "cell_type": "code",
   "execution_count": null,
   "metadata": {},
   "outputs": [],
   "source": []
  },
  {
   "cell_type": "markdown",
   "metadata": {},
   "source": [
    "2. Посчитайте частоту или абсолютные значения встречаемости аминокислот в полученной последовательности."
   ]
  },
  {
   "cell_type": "code",
   "execution_count": null,
   "metadata": {},
   "outputs": [],
   "source": []
  }
 ],
 "metadata": {
  "kernelspec": {
   "display_name": "Python 3",
   "language": "python",
   "name": "python3"
  },
  "language_info": {
   "codemirror_mode": {
    "name": "ipython",
    "version": 3
   },
   "file_extension": ".py",
   "mimetype": "text/x-python",
   "name": "python",
   "nbconvert_exporter": "python",
   "pygments_lexer": "ipython3",
   "version": "3.8.5"
  }
 },
 "nbformat": 4,
 "nbformat_minor": 4
}
